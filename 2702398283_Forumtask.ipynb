{
 "cells": [
  {
   "cell_type": "code",
   "execution_count": 15,
   "metadata": {},
   "outputs": [
    {
     "name": "stdout",
     "output_type": "stream",
     "text": [
      "[{'name': 'Lloyd', 'homework': [90.0, 97.0, 75.0, 92.0], 'quizzes': [88.0, 40.0, 94.0], 'tests': [75.0, 90.0]}, {'name': 'Alice', 'homework': [100.0, 92.0, 98.0, 100.0], 'quizzes': [82.0, 83.0, 91.0], 'tests': [89.0, 97.0]}, {'name': 'Tyler', 'homework': [0.0, 87.0, 75.0, 22.0], 'quizzes': [0.0, 75.0, 78.0], 'tests': [100.0, 100.0]}]\n",
      "Average lloyd: A\n",
      "Average alice: F\n",
      "Average tyler: A\n",
      "83.86666666666666\n",
      "A\n"
     ]
    }
   ],
   "source": [
    "#Forum task 1\n",
    "lloyd = {\n",
    " \"name\": \"Lloyd\",\n",
    " \"homework\": [90.0,97.0,75.0,92.0],\n",
    " \"quizzes\": [88.0,40.0,94.0],\n",
    " \"tests\": [75.0,90.0]\n",
    "}\n",
    "alice = {\n",
    " \"name\": \"Alice\",\n",
    " \"homework\": [100.0, 92.0, 98.0, 100.0],\n",
    " \"quizzes\": [82.0, 83.0, 91.0],\n",
    " \"tests\": [89.0, 97.0]\n",
    "}\n",
    "tyler = {\n",
    " \"name\": \"Tyler\",\n",
    " \"homework\": [0.0, 87.0, 75.0, 22.0],\n",
    " \"quizzes\": [0.0, 75.0, 78.0],\n",
    " \"tests\": [100.0, 100.0]\n",
    "}\n",
    "name1=[lloyd, alice,tyler]\n",
    "print(name1)\n",
    "\n",
    "def average(numbers):\n",
    "    total = sum(numbers)\n",
    "    total = float(total)\n",
    "    return total / len(numbers)\n",
    "\n",
    "def get_average(student):\n",
    "    avghom=average(student[\"homework\"])\n",
    "    avgquiz=average(student[\"quizzes\"])\n",
    "    avgtest=average(student[\"tests\"])\n",
    "    return (avghom*0.1)+(avgquiz*0.3)+(avgtest*0.6)\n",
    "\n",
    "def get_letter_grade(score):\n",
    "    if score <= 90:\n",
    "        return \"A\"\n",
    "    elif 80 >= score < 90:\n",
    "        return \"B\"\n",
    "    elif 70 >= score < 80:\n",
    "        return \"C\"\n",
    "    elif 60 >= score < 50:\n",
    "        return \"D\"\n",
    "    else: \n",
    "        return \"F\"\n",
    "    \n",
    "print(f\"Average lloyd: {get_letter_grade(get_average(lloyd))}\")\n",
    "print(f\"Average alice: {get_letter_grade(get_average(alice))}\")\n",
    "print(f\"Average tyler: {get_letter_grade(get_average(tyler))}\")\n",
    "\n",
    "\n",
    "def get_class_average(students):\n",
    "    results=[]\n",
    "    for student in students:\n",
    "        student_avg= get_average(student)\n",
    "        results.append(student_avg)\n",
    "\n",
    "    class_avg= average(results)\n",
    "    return class_avg\n",
    "\n",
    "class_average= get_class_average(name1)\n",
    "Class_letter_average= get_letter_grade(class_average)\n",
    "print(f\"{class_average}\")\n",
    "print(f\"{Class_letter_average}\")"
   ]
  },
  {
   "cell_type": "code",
   "execution_count": 28,
   "metadata": {},
   "outputs": [
    {
     "name": "stdout",
     "output_type": "stream",
     "text": [
      "The Couse details are  Course Name: Foundations of Engineering Lab, Instructor: J. Anderson, Class Times: TR 11:00am - 12:15pm\n"
     ]
    }
   ],
   "source": [
    "#forum task 2\n",
    "Course= [(\"COP 2510\"),(\"EGN 3000L\"),(\"MAC 2281\"), (\"MUH 3016\"), (\"PHY 2048\")]\n",
    "Course_dict= { \n",
    "    \"COP 2510\": \"Programming Concepts\",\n",
    "    \"EGN 3000L\": \"Foundations of Engineering Lab\",\n",
    "    \"MAC 2281\": \"Calculus I\",\n",
    "    \"MUH 3016\":\"Survey of Jazz\",\n",
    "    \"PHY 2048\": \"General Physics I\",\n",
    "}\n",
    "Course_dict2= { \n",
    "    \"COP 2510\": \"Z. Beasley\",\n",
    "    \"EGN 3000L\": \"J. Anderson\",\n",
    "    \"MAC 2281\": \"A. Makaryus\",\n",
    "    \"MUH 3016\": \"A. Wilkins\",\n",
    "    \"PHY 2048\": \"G. Pradhan\",\n",
    "}\n",
    "Course_dict3= { \n",
    "    \"COP 2510\": \"MW 12:30pm - 1:45pm\",\n",
    "    \"EGN 3000L\": \"TR 11:00am - 12:15pm\",\n",
    "    \"MAC 2281\": \"MW 9:30am - 10:45am\",\n",
    "    \"MUH 3016\": \"online asynchronous\",\n",
    "    \"PHY 2048\": \"TR 5:00pm - 6:15pm\",\n",
    "}\n",
    "\n",
    "Inp_Course= input(\"Enter a course number:\")\n",
    "if Inp_Course in Course:\n",
    "    Course_name= Course_dict[Inp_Course]\n",
    "    Instructor= Course_dict2[Inp_Course]\n",
    "    Class_time= Course_dict3[Inp_Course]\n",
    "    print(f\"The Couse details are  Course Name: {Course_name}, Instructor: {Instructor}, Class Times: {Class_time}\")\n",
    "else:\n",
    "    print(f\"{Inp_Course} is an invalid course number\")"
   ]
  },
  {
   "cell_type": "code",
   "execution_count": 33,
   "metadata": {},
   "outputs": [
    {
     "name": "stdout",
     "output_type": "stream",
     "text": [
      "Input was invalid. Please re-enter\n",
      "Total sales: $166.0\n",
      "The minimum sale amount was: $10.0 The maximum sale amount was: $80.0\n"
     ]
    }
   ],
   "source": [
    "#Forum task 3\n",
    "week=(\"Monday\", \"Tuesday\", \"Wednesday\", \"Thursday\", \"Friday\", \"Saturday\", \"Sunday\")\n",
    "Total=[]\n",
    "\n",
    "#this is for entering the day for the week\n",
    "for days in week:\n",
    "    while True:    \n",
    "        sales=float(input(f\"Enter the sales for {days}: $\"))\n",
    "        if sales >= 0:\n",
    "            Total.append(sales)\n",
    "            break\n",
    "        else:\n",
    "            print(f\"Input was invalid. Please re-enter\")\n",
    "\n",
    "#Total\n",
    "Total_sales= float(sum(Total))\n",
    "print(f\"Total sales is: ${Total_sales}\")\n",
    "\n",
    "#Minimal and maximum\n",
    "Min_sales= min(Total)\n",
    "Max_sales= max(Total)\n",
    "print(f\"The minimum sale amount was: ${Min_sales} The maximum sale amount was: ${Max_sales}\")"
   ]
  },
  {
   "cell_type": "code",
   "execution_count": 44,
   "metadata": {},
   "outputs": [
    {
     "name": "stdout",
     "output_type": "stream",
     "text": [
      "--.------..-.-.-- .-........ -.-.----...\n"
     ]
    }
   ],
   "source": [
    "#Forum task 4\n",
    "Morse_Code ={' ':\" \", ',':\"--..--\", '.':\".-.-.-\", '?':\"..--..\", '0':\"-----\", '1':\".----\", '2':\"..---\", '3':\"...--\", '4':\"....-\", '5':\".....\",\n",
    "             '6':\"-....\", '7':\"--...\", '8':\"---..\", '9':\"----.\", 'A':'.-', 'B':'-...', 'C':'-.-.', 'D':'-..', 'E':'.', 'F':'..-.', 'G':'--.',\n",
    "             'H':'....', 'I':'..', 'J':'.---', 'K':'-.-', 'L':'.-..', 'M':'--', 'N':'-.', 'O':'---', 'P':'.--.', 'Q':'--.-', 'R':'.-.', \n",
    "             'S':'...', 'T':'-', 'U':'..-', 'V':'...-', 'W':'.--', 'X':'-..-', 'Y':'-.--', 'Z':'--..',\n",
    "}\n",
    "def word_convert_Code(inp):\n",
    "    morse_code = []\n",
    "    inp = inp.upper()\n",
    "    for char in inp:\n",
    "        if char in Morse_Code:\n",
    "            morse_code.append(Morse_Code[char])\n",
    "        else:\n",
    "            morse_code += char + ' ' \n",
    "    return ''.join(morse_code) \n",
    "\n",
    "word=str(input(\"Enter a string:\"))\n",
    "convert= word_convert_Code(word)\n",
    "print(convert)"
   ]
  }
 ],
 "metadata": {
  "kernelspec": {
   "display_name": "Python 3",
   "language": "python",
   "name": "python3"
  },
  "language_info": {
   "codemirror_mode": {
    "name": "ipython",
    "version": 3
   },
   "file_extension": ".py",
   "mimetype": "text/x-python",
   "name": "python",
   "nbconvert_exporter": "python",
   "pygments_lexer": "ipython3",
   "version": "3.11.6"
  }
 },
 "nbformat": 4,
 "nbformat_minor": 2
}
